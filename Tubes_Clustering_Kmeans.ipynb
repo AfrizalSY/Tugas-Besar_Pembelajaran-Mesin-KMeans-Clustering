{
 "cells": [
  {
   "cell_type": "code",
   "execution_count": 173,
   "source": [
    "from scipy.spatial.distance import cdist\r\n",
    "from sklearn.cluster import KMeans\r\n",
    "\r\n",
    "import matplotlib.pyplot as plt\r\n",
    "import seaborn as sns\r\n",
    "import pandas as pd\r\n",
    "import numpy as np\r\n",
    "import math\r\n",
    "import random"
   ],
   "outputs": [],
   "metadata": {}
  },
  {
   "cell_type": "code",
   "execution_count": 174,
   "source": [
    "# Menampilkan Sampel Data Dan Melakukan Drop Column Tertarik\r\n",
    "df = pd.read_csv('../Dataset/kendaraan_train_clean.csv')\r\n",
    "df.drop(['Tertarik'], axis=1, inplace=True)\r\n",
    "df.sample(5)"
   ],
   "outputs": [
    {
     "output_type": "execute_result",
     "data": {
      "text/html": [
       "<div>\n",
       "<style scoped>\n",
       "    .dataframe tbody tr th:only-of-type {\n",
       "        vertical-align: middle;\n",
       "    }\n",
       "\n",
       "    .dataframe tbody tr th {\n",
       "        vertical-align: top;\n",
       "    }\n",
       "\n",
       "    .dataframe thead th {\n",
       "        text-align: right;\n",
       "    }\n",
       "</style>\n",
       "<table border=\"1\" class=\"dataframe\">\n",
       "  <thead>\n",
       "    <tr style=\"text-align: right;\">\n",
       "      <th></th>\n",
       "      <th>Jenis_Kelamin</th>\n",
       "      <th>Umur</th>\n",
       "      <th>SIM</th>\n",
       "      <th>Kode_Daerah</th>\n",
       "      <th>Sudah_Asuransi</th>\n",
       "      <th>Umur_Kendaraan</th>\n",
       "      <th>Kendaraan_Rusak</th>\n",
       "      <th>Premi</th>\n",
       "      <th>Kanal_Penjualan</th>\n",
       "      <th>Lama_Berlangganan</th>\n",
       "    </tr>\n",
       "  </thead>\n",
       "  <tbody>\n",
       "    <tr>\n",
       "      <th>45131</th>\n",
       "      <td>1.0</td>\n",
       "      <td>0.289913</td>\n",
       "      <td>1.0</td>\n",
       "      <td>0.538462</td>\n",
       "      <td>1.0</td>\n",
       "      <td>1.0</td>\n",
       "      <td>1.0</td>\n",
       "      <td>0.066891</td>\n",
       "      <td>0.154321</td>\n",
       "      <td>0.608997</td>\n",
       "    </tr>\n",
       "    <tr>\n",
       "      <th>153337</th>\n",
       "      <td>1.0</td>\n",
       "      <td>0.369231</td>\n",
       "      <td>1.0</td>\n",
       "      <td>0.538462</td>\n",
       "      <td>0.0</td>\n",
       "      <td>1.0</td>\n",
       "      <td>1.0</td>\n",
       "      <td>0.051916</td>\n",
       "      <td>0.759259</td>\n",
       "      <td>0.228374</td>\n",
       "    </tr>\n",
       "    <tr>\n",
       "      <th>186492</th>\n",
       "      <td>1.0</td>\n",
       "      <td>0.292308</td>\n",
       "      <td>1.0</td>\n",
       "      <td>0.961538</td>\n",
       "      <td>2.0</td>\n",
       "      <td>1.0</td>\n",
       "      <td>0.0</td>\n",
       "      <td>0.053662</td>\n",
       "      <td>0.759259</td>\n",
       "      <td>0.788927</td>\n",
       "    </tr>\n",
       "    <tr>\n",
       "      <th>219061</th>\n",
       "      <td>1.0</td>\n",
       "      <td>0.461538</td>\n",
       "      <td>1.0</td>\n",
       "      <td>0.153846</td>\n",
       "      <td>0.0</td>\n",
       "      <td>1.0</td>\n",
       "      <td>1.0</td>\n",
       "      <td>0.041421</td>\n",
       "      <td>0.154321</td>\n",
       "      <td>0.629758</td>\n",
       "    </tr>\n",
       "    <tr>\n",
       "      <th>166079</th>\n",
       "      <td>0.0</td>\n",
       "      <td>0.138462</td>\n",
       "      <td>1.0</td>\n",
       "      <td>0.538462</td>\n",
       "      <td>2.0</td>\n",
       "      <td>0.0</td>\n",
       "      <td>1.0</td>\n",
       "      <td>0.093214</td>\n",
       "      <td>0.932099</td>\n",
       "      <td>0.499261</td>\n",
       "    </tr>\n",
       "  </tbody>\n",
       "</table>\n",
       "</div>"
      ],
      "text/plain": [
       "        Jenis_Kelamin      Umur  SIM  Kode_Daerah  Sudah_Asuransi  \\\n",
       "45131             1.0  0.289913  1.0     0.538462             1.0   \n",
       "153337            1.0  0.369231  1.0     0.538462             0.0   \n",
       "186492            1.0  0.292308  1.0     0.961538             2.0   \n",
       "219061            1.0  0.461538  1.0     0.153846             0.0   \n",
       "166079            0.0  0.138462  1.0     0.538462             2.0   \n",
       "\n",
       "        Umur_Kendaraan  Kendaraan_Rusak     Premi  Kanal_Penjualan  \\\n",
       "45131              1.0              1.0  0.066891         0.154321   \n",
       "153337             1.0              1.0  0.051916         0.759259   \n",
       "186492             1.0              0.0  0.053662         0.759259   \n",
       "219061             1.0              1.0  0.041421         0.154321   \n",
       "166079             0.0              1.0  0.093214         0.932099   \n",
       "\n",
       "        Lama_Berlangganan  \n",
       "45131            0.608997  \n",
       "153337           0.228374  \n",
       "186492           0.788927  \n",
       "219061           0.629758  \n",
       "166079           0.499261  "
      ]
     },
     "metadata": {},
     "execution_count": 174
    }
   ],
   "metadata": {}
  },
  {
   "cell_type": "code",
   "execution_count": 175,
   "source": [
    "# Mengecek Data Kosong\r\n",
    "df.isna().sum()"
   ],
   "outputs": [
    {
     "output_type": "execute_result",
     "data": {
      "text/plain": [
       "Jenis_Kelamin        0\n",
       "Umur                 0\n",
       "SIM                  0\n",
       "Kode_Daerah          0\n",
       "Sudah_Asuransi       0\n",
       "Umur_Kendaraan       0\n",
       "Kendaraan_Rusak      0\n",
       "Premi                0\n",
       "Kanal_Penjualan      0\n",
       "Lama_Berlangganan    0\n",
       "dtype: int64"
      ]
     },
     "metadata": {},
     "execution_count": 175
    }
   ],
   "metadata": {}
  },
  {
   "cell_type": "markdown",
   "source": [
    "## **Feature Selection**"
   ],
   "metadata": {}
  },
  {
   "cell_type": "code",
   "execution_count": 103,
   "source": [
    "# Melihat Nilai Korelasi Antar Variable Dengan Heatmap\r\n",
    "plt.figure(figsize=(15, 8))\r\n",
    "mask = np.triu(np.ones_like(df.corr(), dtype=np.bool))\r\n",
    "heatmap = sns.heatmap(df.corr(), mask=mask, annot=True, cmap='BrBG')\r\n",
    "heatmap.set_title('Triangle Correlation Heatmap', fontdict={'fontsize': 16}, pad=16)\r\n",
    "plt.show()"
   ],
   "outputs": [
    {
     "output_type": "display_data",
     "data": {
      "image/png": "[encoded data removed]",
      "text/plain": [
       "<Figure size 1080x576 with 2 Axes>"
      ]
     },
     "metadata": {
      "needs_background": "light"
     }
    }
   ],
   "metadata": {}
  },
  {
   "cell_type": "code",
   "execution_count": 104,
   "source": [
    "# Memilih Feature Berdasarkan Nilai Korelasi Tertinggi\r\n",
    "df = df[['Umur', 'Kanal_Penjualan']]\r\n",
    "df.head()"
   ],
   "outputs": [
    {
     "output_type": "execute_result",
     "data": {
      "text/html": [
       "<div>\n",
       "<style scoped>\n",
       "    .dataframe tbody tr th:only-of-type {\n",
       "        vertical-align: middle;\n",
       "    }\n",
       "\n",
       "    .dataframe tbody tr th {\n",
       "        vertical-align: top;\n",
       "    }\n",
       "\n",
       "    .dataframe thead th {\n",
       "        text-align: right;\n",
       "    }\n",
       "</style>\n",
       "<table border=\"1\" class=\"dataframe\">\n",
       "  <thead>\n",
       "    <tr style=\"text-align: right;\">\n",
       "      <th></th>\n",
       "      <th>Umur</th>\n",
       "      <th>Kanal_Penjualan</th>\n",
       "    </tr>\n",
       "  </thead>\n",
       "  <tbody>\n",
       "    <tr>\n",
       "      <th>0</th>\n",
       "      <td>0.153846</td>\n",
       "      <td>0.932099</td>\n",
       "    </tr>\n",
       "    <tr>\n",
       "      <th>1</th>\n",
       "      <td>0.430769</td>\n",
       "      <td>0.172840</td>\n",
       "    </tr>\n",
       "    <tr>\n",
       "      <th>2</th>\n",
       "      <td>0.015385</td>\n",
       "      <td>0.981481</td>\n",
       "    </tr>\n",
       "    <tr>\n",
       "      <th>3</th>\n",
       "      <td>0.461538</td>\n",
       "      <td>0.537037</td>\n",
       "    </tr>\n",
       "    <tr>\n",
       "      <th>4</th>\n",
       "      <td>0.015385</td>\n",
       "      <td>0.932099</td>\n",
       "    </tr>\n",
       "  </tbody>\n",
       "</table>\n",
       "</div>"
      ],
      "text/plain": [
       "       Umur  Kanal_Penjualan\n",
       "0  0.153846         0.932099\n",
       "1  0.430769         0.172840\n",
       "2  0.015385         0.981481\n",
       "3  0.461538         0.537037\n",
       "4  0.015385         0.932099"
      ]
     },
     "metadata": {},
     "execution_count": 104
    }
   ],
   "metadata": {}
  },
  {
   "cell_type": "code",
   "execution_count": 105,
   "source": [
    "# Mengecek Total Data Pada Dataframe\r\n",
    "print(\"Total Data :\", len(df))"
   ],
   "outputs": [
    {
     "output_type": "stream",
     "name": "stdout",
     "text": [
      "Total Data : 230690\n"
     ]
    }
   ],
   "metadata": {}
  },
  {
   "cell_type": "markdown",
   "source": [
    "## **K-MEANS Algorithm**"
   ],
   "metadata": {}
  },
  {
   "cell_type": "code",
   "execution_count": 106,
   "source": [
    "# Mendefinisikan Metode Euclidean Untuk Perhitungan Jarak Dari Centroid\r\n",
    "def euclidean(x, y):\r\n",
    "    return math.sqrt(sum((x - y)**2))\r\n",
    "\r\n",
    "\r\n",
    "def kmeans(k, max_iter, df):\r\n",
    "    # Inisialisasi Dictionary Centroid\r\n",
    "    centroid = {}\r\n",
    "    \r\n",
    "    # Memilih Centroid Secara Random Pada Data\r\n",
    "    for c in range(k):\r\n",
    "        rand = random.randint(0, len(df))\r\n",
    "        centroid[c] = df[rand]\r\n",
    "\r\n",
    "\r\n",
    "    for _ in range(max_iter):\r\n",
    "        # Mendefinisikan Dictionary Cluster\r\n",
    "        cluster = {}\r\n",
    "\r\n",
    "        # Melakukan Set Setiap Index Pada Cluster Berisi Array kosong : []\r\n",
    "        for i in range(k):\r\n",
    "            cluster[i] = []\r\n",
    "\r\n",
    "        # Mencari Nilai X dan Y Pada Data Untuk Setiap Centroid Menggunakan\r\n",
    "        # Metode Euclidean Dan Memasukkannya Kedalam Dictionary Cluster\r\n",
    "        for x in df:\r\n",
    "            dist = [euclidean(x, centroid[c]) for c in centroid]\r\n",
    "            cluster[dist.index(min(dist))].append(x)\r\n",
    "\r\n",
    "        # Mencari Nilai Centroid Dengan Mean Untuk Setiap Nilai Data\r\n",
    "        # Cluster Yang Telah Dicari Sebelumnya\r\n",
    "        for cl in cluster:\r\n",
    "            centroid[cl] = np.mean(cluster[cl], axis=0)\r\n",
    "\r\n",
    "    # Mengembalikan Nilai Dari Variabel Centroid Dan Cluster\r\n",
    "    return centroid, cluster"
   ],
   "outputs": [],
   "metadata": {}
  },
  {
   "cell_type": "markdown",
   "source": [
    "## **Main Program**"
   ],
   "metadata": {}
  },
  {
   "cell_type": "code",
   "execution_count": 109,
   "source": [
    "# Merubah DataFrame Menjadi Numpy Array\r\n",
    "data = df.to_numpy()\r\n",
    "\r\n",
    "# Memasukkan Nilai K dan Maksimum Iterasi\r\n",
    "k = 4\r\n",
    "max_iter = 500\r\n",
    "\r\n",
    "# Memanggil Fungsi kmeans Yang Akan Mengembalikan Nilai Centroid Dan Cluster\r\n",
    "centroid, cluster = kmeans(k, max_iter, data)"
   ],
   "outputs": [],
   "metadata": {}
  },
  {
   "cell_type": "markdown",
   "source": [
    "## **Hasil Proses Cluster Final**"
   ],
   "metadata": {}
  },
  {
   "cell_type": "code",
   "execution_count": 110,
   "source": [
    "# Inisialisasi Array Untuk Dat Cluster\r\n",
    "df = []\r\n",
    "\r\n",
    "# Melakukan Perulangan Untuk Setiap Key Pada Data\r\n",
    "# Hasil Proses K-Means Untuk Diinputkan Kedalam Arrray Cluster (df)\r\n",
    "for key in cluster.keys():\r\n",
    "    for c in cluster.get(key):\r\n",
    "        df.append((c[0], c[1], key))\r\n",
    "\r\n",
    "# Set Array df menjadi dataframe, Menamakan nama kolom dan menampilkannya\r\n",
    "df = pd.DataFrame(df)\r\n",
    "df.columns = ['Umur', 'Kanal_Penjualan', 'Cluster']\r\n",
    "df.sample(10)"
   ],
   "outputs": [
    {
     "output_type": "execute_result",
     "data": {
      "text/html": [
       "<div>\n",
       "<style scoped>\n",
       "    .dataframe tbody tr th:only-of-type {\n",
       "        vertical-align: middle;\n",
       "    }\n",
       "\n",
       "    .dataframe tbody tr th {\n",
       "        vertical-align: top;\n",
       "    }\n",
       "\n",
       "    .dataframe thead th {\n",
       "        text-align: right;\n",
       "    }\n",
       "</style>\n",
       "<table border=\"1\" class=\"dataframe\">\n",
       "  <thead>\n",
       "    <tr style=\"text-align: right;\">\n",
       "      <th></th>\n",
       "      <th>Umur</th>\n",
       "      <th>Kanal_Penjualan</th>\n",
       "      <th>Cluster</th>\n",
       "    </tr>\n",
       "  </thead>\n",
       "  <tbody>\n",
       "    <tr>\n",
       "      <th>110138</th>\n",
       "      <td>0.046154</td>\n",
       "      <td>0.932099</td>\n",
       "      <td>2</td>\n",
       "    </tr>\n",
       "    <tr>\n",
       "      <th>38356</th>\n",
       "      <td>0.369231</td>\n",
       "      <td>0.154321</td>\n",
       "      <td>1</td>\n",
       "    </tr>\n",
       "    <tr>\n",
       "      <th>39342</th>\n",
       "      <td>0.430769</td>\n",
       "      <td>0.154321</td>\n",
       "      <td>1</td>\n",
       "    </tr>\n",
       "    <tr>\n",
       "      <th>209754</th>\n",
       "      <td>0.476923</td>\n",
       "      <td>0.685318</td>\n",
       "      <td>3</td>\n",
       "    </tr>\n",
       "    <tr>\n",
       "      <th>182369</th>\n",
       "      <td>0.430769</td>\n",
       "      <td>0.759259</td>\n",
       "      <td>3</td>\n",
       "    </tr>\n",
       "    <tr>\n",
       "      <th>65164</th>\n",
       "      <td>0.289913</td>\n",
       "      <td>0.932099</td>\n",
       "      <td>2</td>\n",
       "    </tr>\n",
       "    <tr>\n",
       "      <th>17326</th>\n",
       "      <td>0.600000</td>\n",
       "      <td>0.154321</td>\n",
       "      <td>0</td>\n",
       "    </tr>\n",
       "    <tr>\n",
       "      <th>129430</th>\n",
       "      <td>0.046154</td>\n",
       "      <td>0.932099</td>\n",
       "      <td>2</td>\n",
       "    </tr>\n",
       "    <tr>\n",
       "      <th>153223</th>\n",
       "      <td>0.184615</td>\n",
       "      <td>0.938272</td>\n",
       "      <td>2</td>\n",
       "    </tr>\n",
       "    <tr>\n",
       "      <th>201659</th>\n",
       "      <td>0.276923</td>\n",
       "      <td>0.759259</td>\n",
       "      <td>3</td>\n",
       "    </tr>\n",
       "  </tbody>\n",
       "</table>\n",
       "</div>"
      ],
      "text/plain": [
       "            Umur  Kanal_Penjualan  Cluster\n",
       "110138  0.046154         0.932099        2\n",
       "38356   0.369231         0.154321        1\n",
       "39342   0.430769         0.154321        1\n",
       "209754  0.476923         0.685318        3\n",
       "182369  0.430769         0.759259        3\n",
       "65164   0.289913         0.932099        2\n",
       "17326   0.600000         0.154321        0\n",
       "129430  0.046154         0.932099        2\n",
       "153223  0.184615         0.938272        2\n",
       "201659  0.276923         0.759259        3"
      ]
     },
     "metadata": {},
     "execution_count": 110
    }
   ],
   "metadata": {}
  },
  {
   "cell_type": "code",
   "execution_count": 111,
   "source": [
    "# Menampilkan Letak Seluruh Centroids\r\n",
    "for i in range(k):\r\n",
    "    print('Centroid', i + 1, ':', centroid[i])"
   ],
   "outputs": [
    {
     "output_type": "stream",
     "name": "stdout",
     "text": [
      "Centroid 1 : [0.66798187 0.15105811]\n",
      "Centroid 2 : [0.33973745 0.15390448]\n",
      "Centroid 3 : [0.09610791 0.91461042]\n",
      "Centroid 4 : [0.46821319 0.77155158]\n"
     ]
    }
   ],
   "metadata": {}
  },
  {
   "cell_type": "code",
   "execution_count": 176,
   "source": [
    "# Memetakkan Nilai X Dan Y Untuk Setiap Data Pada Dictionary Cluster\r\n",
    "clusterize = pd.DataFrame(dict([(k, pd.Series(v)) for k, v in cluster.items()]))\r\n",
    "\r\n",
    "# Membuat Nama Kolom Cluster Berdasarkan Jumlah Cluster Pada Clusterize\r\n",
    "col = []\r\n",
    "for i in range(len(clusterize.columns)):\r\n",
    "    col.append('Cluster ' + str(i + 1))\r\n",
    "\r\n",
    "# Melakukan Set Nama Kolom Dan Menampilkan Sample Data Cluster\r\n",
    "clusterize.columns = col\r\n",
    "clusterize.sample(8)\r\n"
   ],
   "outputs": [
    {
     "output_type": "execute_result",
     "data": {
      "text/html": [
       "<div>\n",
       "<style scoped>\n",
       "    .dataframe tbody tr th:only-of-type {\n",
       "        vertical-align: middle;\n",
       "    }\n",
       "\n",
       "    .dataframe tbody tr th {\n",
       "        vertical-align: top;\n",
       "    }\n",
       "\n",
       "    .dataframe thead th {\n",
       "        text-align: right;\n",
       "    }\n",
       "</style>\n",
       "<table border=\"1\" class=\"dataframe\">\n",
       "  <thead>\n",
       "    <tr style=\"text-align: right;\">\n",
       "      <th></th>\n",
       "      <th>Cluster 1</th>\n",
       "      <th>Cluster 2</th>\n",
       "      <th>Cluster 3</th>\n",
       "      <th>Cluster 4</th>\n",
       "    </tr>\n",
       "  </thead>\n",
       "  <tbody>\n",
       "    <tr>\n",
       "      <th>49532</th>\n",
       "      <td>NaN</td>\n",
       "      <td>NaN</td>\n",
       "      <td>[0.0153846153846153, 0.9814814814814814]</td>\n",
       "      <td>[0.3846153846153846, 0.7592592592592592]</td>\n",
       "    </tr>\n",
       "    <tr>\n",
       "      <th>10346</th>\n",
       "      <td>[0.7230769230769232, 0.074074074074074]</td>\n",
       "      <td>[0.2923076923076924, 0.3333333333333332]</td>\n",
       "      <td>[0.1384615384615384, 0.9444444444444444]</td>\n",
       "      <td>[0.4, 0.7592592592592592]</td>\n",
       "    </tr>\n",
       "    <tr>\n",
       "      <th>28304</th>\n",
       "      <td>NaN</td>\n",
       "      <td>[0.0615384615384615, 0.1543209876543209]</td>\n",
       "      <td>[0.0615384615384615, 0.9320987654320988]</td>\n",
       "      <td>[0.5230769230769231, 0.7592592592592592]</td>\n",
       "    </tr>\n",
       "    <tr>\n",
       "      <th>42643</th>\n",
       "      <td>NaN</td>\n",
       "      <td>NaN</td>\n",
       "      <td>[0.2307692307692308, 0.9320987654320988]</td>\n",
       "      <td>[0.3846153846153846, 0.7592592592592592]</td>\n",
       "    </tr>\n",
       "    <tr>\n",
       "      <th>14330</th>\n",
       "      <td>[0.5076923076923077, 0.1543209876543209]</td>\n",
       "      <td>[0.476923076923077, 0.1543209876543209]</td>\n",
       "      <td>[0.0, 0.9814814814814814]</td>\n",
       "      <td>[0.8, 0.7592592592592592]</td>\n",
       "    </tr>\n",
       "    <tr>\n",
       "      <th>94096</th>\n",
       "      <td>NaN</td>\n",
       "      <td>NaN</td>\n",
       "      <td>[0.0307692307692307, 0.9814814814814814]</td>\n",
       "      <td>NaN</td>\n",
       "    </tr>\n",
       "    <tr>\n",
       "      <th>112793</th>\n",
       "      <td>NaN</td>\n",
       "      <td>NaN</td>\n",
       "      <td>[0.1846153846153846, 0.9320987654320988]</td>\n",
       "      <td>NaN</td>\n",
       "    </tr>\n",
       "    <tr>\n",
       "      <th>73936</th>\n",
       "      <td>NaN</td>\n",
       "      <td>NaN</td>\n",
       "      <td>[0.0769230769230769, 0.9320987654320988]</td>\n",
       "      <td>NaN</td>\n",
       "    </tr>\n",
       "  </tbody>\n",
       "</table>\n",
       "</div>"
      ],
      "text/plain": [
       "                                       Cluster 1  \\\n",
       "49532                                        NaN   \n",
       "10346    [0.7230769230769232, 0.074074074074074]   \n",
       "28304                                        NaN   \n",
       "42643                                        NaN   \n",
       "14330   [0.5076923076923077, 0.1543209876543209]   \n",
       "94096                                        NaN   \n",
       "112793                                       NaN   \n",
       "73936                                        NaN   \n",
       "\n",
       "                                       Cluster 2  \\\n",
       "49532                                        NaN   \n",
       "10346   [0.2923076923076924, 0.3333333333333332]   \n",
       "28304   [0.0615384615384615, 0.1543209876543209]   \n",
       "42643                                        NaN   \n",
       "14330    [0.476923076923077, 0.1543209876543209]   \n",
       "94096                                        NaN   \n",
       "112793                                       NaN   \n",
       "73936                                        NaN   \n",
       "\n",
       "                                       Cluster 3  \\\n",
       "49532   [0.0153846153846153, 0.9814814814814814]   \n",
       "10346   [0.1384615384615384, 0.9444444444444444]   \n",
       "28304   [0.0615384615384615, 0.9320987654320988]   \n",
       "42643   [0.2307692307692308, 0.9320987654320988]   \n",
       "14330                  [0.0, 0.9814814814814814]   \n",
       "94096   [0.0307692307692307, 0.9814814814814814]   \n",
       "112793  [0.1846153846153846, 0.9320987654320988]   \n",
       "73936   [0.0769230769230769, 0.9320987654320988]   \n",
       "\n",
       "                                       Cluster 4  \n",
       "49532   [0.3846153846153846, 0.7592592592592592]  \n",
       "10346                  [0.4, 0.7592592592592592]  \n",
       "28304   [0.5230769230769231, 0.7592592592592592]  \n",
       "42643   [0.3846153846153846, 0.7592592592592592]  \n",
       "14330                  [0.8, 0.7592592592592592]  \n",
       "94096                                        NaN  \n",
       "112793                                       NaN  \n",
       "73936                                        NaN  "
      ]
     },
     "metadata": {},
     "execution_count": 176
    }
   ],
   "metadata": {}
  },
  {
   "cell_type": "markdown",
   "source": [
    "## **Visualisasi Cluster**"
   ],
   "metadata": {}
  },
  {
   "cell_type": "code",
   "execution_count": 172,
   "source": [
    "# Set Warna Setiap CLuster\r\n",
    "colors = ['r', 'g', '#0080ff', '#e69500']\r\n",
    "\r\n",
    "# Set Ukuran Dan Judul Plot\r\n",
    "plt.figure(figsize=(8, 8))\r\n",
    "plt.title('Data Clustering Result')\r\n",
    "\r\n",
    "# Melakukan Looping Setiap Titik Data Dan Centroid\r\n",
    "for i in range(k):\r\n",
    "    plt.scatter(\r\n",
    "        df.Umur[df['Cluster'] == i], \r\n",
    "        df['Kanal_Penjualan'][df['Cluster'] == i], \r\n",
    "        color=colors[i],\r\n",
    "        label=f'Cluster {i}'\r\n",
    "    )\r\n",
    "\r\n",
    "    plt.scatter(centroid[i][0], centroid[i][1], color='k', marker='P')\r\n",
    "\r\n",
    "# Acuan Penampilan Label Centroid\r\n",
    "plt.scatter(centroid[0][0], centroid[0][1], color='k', label=\"Centroids\", marker='P')\r\n",
    "\r\n",
    "# Set Nama Label X Dan Y Pada Plot Dan Set Tempat Legend Ditampilkan\r\n",
    "plt.xlabel(\"Umur\")\r\n",
    "plt.ylabel(\"Kanal Penjualan\")\r\n",
    "plt.legend(loc='best', bbox_to_anchor=(1, 0.5))\r\n",
    "plt.show()\r\n"
   ],
   "outputs": [
    {
     "output_type": "display_data",
     "data": {
      "image/png": "[encoded data removed]",
      "text/plain": [
       "<Figure size 576x576 with 1 Axes>"
      ]
     },
     "metadata": {
      "needs_background": "light"
     }
    }
   ],
   "metadata": {}
  },
  {
   "cell_type": "markdown",
   "source": [
    "## **Evaluasi Model**"
   ],
   "metadata": {}
  },
  {
   "cell_type": "code",
   "execution_count": 127,
   "source": [
    "# Inisialisasi Array Untuk Distortion\r\n",
    "distortions = []\r\n",
    "\r\n",
    "# Inisialisasi Range K\r\n",
    "K = range(2, 9)\r\n",
    "\r\n",
    "# Melakukan Perulangan Untuk Setiap Range\r\n",
    "for i in K:\r\n",
    "    # Membangun Dan Fit Dataset\r\n",
    "    model = KMeans(n_clusters=i).fit(df)\r\n",
    "    model.fit(df)\r\n",
    "\r\n",
    "    # Memasukkan Hasil Dari Jumlah cdist data, cluster_center Ke Array\r\n",
    "    distortions.append(sum(np.min(cdist(df, model.cluster_centers_, 'euclidean'), axis=1)) / df.shape[0])\r\n",
    "\r\n",
    "# Plot data\r\n",
    "plt.plot(K, distortions, 'bx-')\r\n",
    "plt.xlabel('Nilai K')\r\n",
    "plt.ylabel('Distortion')\r\n",
    "plt.title('Elbow Method dengan Distortion')\r\n",
    "plt.show()"
   ],
   "outputs": [
    {
     "output_type": "display_data",
     "data": {
      "image/png": "[encoded data removed]",
      "text/plain": [
       "<Figure size 432x288 with 1 Axes>"
      ]
     },
     "metadata": {
      "needs_background": "light"
     }
    }
   ],
   "metadata": {}
  }
 ],
 "metadata": {
  "orig_nbformat": 4,
  "language_info": {
   "name": "python",
   "version": "3.9.0",
   "mimetype": "text/x-python",
   "codemirror_mode": {
    "name": "ipython",
    "version": 3
   },
   "pygments_lexer": "ipython3",
   "nbconvert_exporter": "python",
   "file_extension": ".py"
  },
  "kernelspec": {
   "name": "python3",
   "display_name": "Python 3.9.0 64-bit"
  },
  "interpreter": {
   "hash": "2bf746931fd58f1246b6df4740a30aa94cbb7406c646ac7ef817c7ae9c273626"
  }
 },
 "nbformat": 4,
 "nbformat_minor": 2
}