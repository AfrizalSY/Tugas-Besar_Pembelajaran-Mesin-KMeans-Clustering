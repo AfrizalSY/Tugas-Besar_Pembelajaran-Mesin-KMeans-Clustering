{
 "cells": [
  {
   "cell_type": "code",
   "execution_count": 13,
   "metadata": {},
   "outputs": [],
   "source": [
    "from scipy.spatial.distance import cdist\n",
    "from sklearn.cluster import KMeans\n",
    "\n",
    "import matplotlib.pyplot as plt\n",
    "import pandas as pd\n",
    "import numpy as np\n",
    "import random\n",
    "import math"
   ]
  },
  {
   "cell_type": "code",
   "execution_count": 14,
   "metadata": {},
   "outputs": [
    {
     "data": {
      "text/html": [
       "<div>\n",
       "<style scoped>\n",
       "    .dataframe tbody tr th:only-of-type {\n",
       "        vertical-align: middle;\n",
       "    }\n",
       "\n",
       "    .dataframe tbody tr th {\n",
       "        vertical-align: top;\n",
       "    }\n",
       "\n",
       "    .dataframe thead th {\n",
       "        text-align: right;\n",
       "    }\n",
       "</style>\n",
       "<table border=\"1\" class=\"dataframe\">\n",
       "  <thead>\n",
       "    <tr style=\"text-align: right;\">\n",
       "      <th></th>\n",
       "      <th>Component_1</th>\n",
       "      <th>Component_2</th>\n",
       "      <th>Tertarik</th>\n",
       "    </tr>\n",
       "  </thead>\n",
       "  <tbody>\n",
       "    <tr>\n",
       "      <th>196698</th>\n",
       "      <td>1.295632</td>\n",
       "      <td>2.694981</td>\n",
       "      <td>0</td>\n",
       "    </tr>\n",
       "    <tr>\n",
       "      <th>151292</th>\n",
       "      <td>-2.192243</td>\n",
       "      <td>0.289842</td>\n",
       "      <td>0</td>\n",
       "    </tr>\n",
       "    <tr>\n",
       "      <th>39387</th>\n",
       "      <td>0.714729</td>\n",
       "      <td>2.391768</td>\n",
       "      <td>0</td>\n",
       "    </tr>\n",
       "    <tr>\n",
       "      <th>136507</th>\n",
       "      <td>1.580400</td>\n",
       "      <td>-0.705367</td>\n",
       "      <td>0</td>\n",
       "    </tr>\n",
       "    <tr>\n",
       "      <th>62045</th>\n",
       "      <td>3.670196</td>\n",
       "      <td>0.687965</td>\n",
       "      <td>0</td>\n",
       "    </tr>\n",
       "  </tbody>\n",
       "</table>\n",
       "</div>"
      ],
      "text/plain": [
       "        Component_1  Component_2  Tertarik\n",
       "196698     1.295632     2.694981         0\n",
       "151292    -2.192243     0.289842         0\n",
       "39387      0.714729     2.391768         0\n",
       "136507     1.580400    -0.705367         0\n",
       "62045      3.670196     0.687965         0"
      ]
     },
     "execution_count": 14,
     "metadata": {},
     "output_type": "execute_result"
    }
   ],
   "source": [
    "# Menampilkan Sampel Data Dan Melakukan Drop Column Tertarik\n",
    "df = pd.read_csv('../Dataset/kendaraan_train_pca_clean.csv')\n",
    "df.sample(5)"
   ]
  },
  {
   "cell_type": "code",
   "execution_count": 15,
   "metadata": {},
   "outputs": [
    {
     "data": {
      "text/plain": [
       "Component_1    0\n",
       "Component_2    0\n",
       "Tertarik       0\n",
       "dtype: int64"
      ]
     },
     "execution_count": 15,
     "metadata": {},
     "output_type": "execute_result"
    }
   ],
   "source": [
    "# Mengecek Data Kosong\n",
    "df.isna().sum()"
   ]
  },
  {
   "cell_type": "markdown",
   "metadata": {},
   "source": [
    "## **Feature Selection**"
   ]
  },
  {
   "cell_type": "code",
   "execution_count": 16,
   "metadata": {},
   "outputs": [
    {
     "data": {
      "text/html": [
       "<div>\n",
       "<style scoped>\n",
       "    .dataframe tbody tr th:only-of-type {\n",
       "        vertical-align: middle;\n",
       "    }\n",
       "\n",
       "    .dataframe tbody tr th {\n",
       "        vertical-align: top;\n",
       "    }\n",
       "\n",
       "    .dataframe thead th {\n",
       "        text-align: right;\n",
       "    }\n",
       "</style>\n",
       "<table border=\"1\" class=\"dataframe\">\n",
       "  <thead>\n",
       "    <tr style=\"text-align: right;\">\n",
       "      <th></th>\n",
       "      <th>Component_1</th>\n",
       "      <th>Component_2</th>\n",
       "    </tr>\n",
       "  </thead>\n",
       "  <tbody>\n",
       "    <tr>\n",
       "      <th>0</th>\n",
       "      <td>-2.178823</td>\n",
       "      <td>0.271841</td>\n",
       "    </tr>\n",
       "    <tr>\n",
       "      <th>1</th>\n",
       "      <td>3.014007</td>\n",
       "      <td>0.124504</td>\n",
       "    </tr>\n",
       "    <tr>\n",
       "      <th>2</th>\n",
       "      <td>-2.211770</td>\n",
       "      <td>0.252479</td>\n",
       "    </tr>\n",
       "    <tr>\n",
       "      <th>3</th>\n",
       "      <td>2.379107</td>\n",
       "      <td>0.550604</td>\n",
       "    </tr>\n",
       "    <tr>\n",
       "      <th>4</th>\n",
       "      <td>-2.270448</td>\n",
       "      <td>0.208164</td>\n",
       "    </tr>\n",
       "  </tbody>\n",
       "</table>\n",
       "</div>"
      ],
      "text/plain": [
       "   Component_1  Component_2\n",
       "0    -2.178823     0.271841\n",
       "1     3.014007     0.124504\n",
       "2    -2.211770     0.252479\n",
       "3     2.379107     0.550604\n",
       "4    -2.270448     0.208164"
      ]
     },
     "execution_count": 16,
     "metadata": {},
     "output_type": "execute_result"
    }
   ],
   "source": [
    "df = df[['Component_1', 'Component_2']]\n",
    "df.head()"
   ]
  },
  {
   "cell_type": "code",
   "execution_count": 17,
   "metadata": {},
   "outputs": [
    {
     "name": "stdout",
     "output_type": "stream",
     "text": [
      "Total Data : 230631\n"
     ]
    }
   ],
   "source": [
    "# Mengecek Total Data Pada Dataframe\n",
    "print(\"Total Data :\", len(df))"
   ]
  },
  {
   "cell_type": "markdown",
   "metadata": {},
   "source": [
    "## **K-MEANS Algorithm**"
   ]
  },
  {
   "cell_type": "code",
   "execution_count": 18,
   "metadata": {},
   "outputs": [],
   "source": [
    "# Mendefinisikan Metode Euclidean Untuk Perhitungan Jarak Dari Centroid\n",
    "def euclidean(x, y):\n",
    "    return math.sqrt(sum((x - y)**2))\n",
    "\n",
    "\n",
    "def kmeans(k, max_iter, df):\n",
    "    # Inisialisasi Dictionary Centroid Kemudian Memilih Centroid Secara Random Pada Data \n",
    "    # Sesuai Banyaknya Cluster Yang Didefinisikan\n",
    "    centroid = {i: df[random.randint(0, len(df))] for i in range(k)}\n",
    "    print(f'Inisialisasi Centroid Random:\\n{centroid} \\n')\n",
    "\n",
    "    for i in range(max_iter):\n",
    "        # Mendefinisikan Dictionary Cluster Dan Mengisi Setiap Key \n",
    "        # Pada Cluster Berisi Array kosong, contoh : {0: [], 1: [], 2: []}\n",
    "        cluster = {i: [] for i in range(k)}\n",
    "\n",
    "        # Mencari Nilai Terdekat Pada Data Untuk Setiap Centroid Yang Telah Di Definisikan Sebelumnya\n",
    "        # Menggunakan Metode Euclidean Dan Mencari Nilai Minimum Pada Setiap Distance \n",
    "        # Untuk Dimasukkan Kedalam Dictionary Cluster\n",
    "        for x in df:\n",
    "            dist = [euclidean(x, centroid[c]) for c in centroid]\n",
    "            cluster[dist.index(min(dist))].append(x)\n",
    "\n",
    "        # Mencari Nilai Centroid Ulang Dari Setiap Cluster \n",
    "        # Yang Telah Dicari Sebelumnya Menggunakan Mean \n",
    "        for cl in cluster:\n",
    "            centroid[cl] = np.mean(cluster[cl], axis=0)\n",
    "\n",
    "        print(f'Iterasi Centroid Ke-{i+1}:\\n{centroid} \\n')\n",
    "\n",
    "    # Mengembalikan Nilai Dari Variabel Centroid Dan Cluster\n",
    "    return centroid, cluster\n"
   ]
  },
  {
   "cell_type": "markdown",
   "metadata": {},
   "source": [
    "## **Main Program**"
   ]
  },
  {
   "cell_type": "code",
   "execution_count": 19,
   "metadata": {},
   "outputs": [
    {
     "name": "stdout",
     "output_type": "stream",
     "text": [
      "Inisialisasi Centroid Random:\n",
      "{0: array([1.1048045 , 0.72991846]), 1: array([0.89857408, 2.43168348]), 2: array([2.49548777, 0.02433149]), 3: array([1.36981385, 0.13418858])} \n",
      "\n",
      "Iterasi Centroid Ke-1:\n",
      "{0: array([-1.54118741,  0.43686483]), 1: array([0.53506532, 2.08202228]), 2: array([2.51883375, 0.03644002]), 3: array([ 0.41623773, -1.19803725])} \n",
      "\n",
      "Iterasi Centroid Ke-2:\n",
      "{0: array([-1.85508492,  0.26544786]), 1: array([0.52528342, 1.82235583]), 2: array([ 2.29969243, -0.02099079]), 3: array([ 0.33911769, -1.33322168])} \n",
      "\n",
      "Iterasi Centroid Ke-3:\n",
      "{0: array([-1.90360349,  0.23527407]), 1: array([0.46783501, 1.71864864]), 2: array([ 2.23302729, -0.09723209]), 3: array([ 0.2378098 , -1.41609945])} \n",
      "\n",
      "Iterasi Centroid Ke-4:\n",
      "{0: array([-1.91690548,  0.22767399]), 1: array([0.45223428, 1.68153085]), 2: array([ 2.18390122, -0.14304534]), 3: array([ 0.16559756, -1.47126085])} \n",
      "\n",
      "Iterasi Centroid Ke-5:\n",
      "{0: array([-1.92129125,  0.22574263]), 1: array([0.45470233, 1.66835286]), 2: array([ 2.14892631, -0.17716335]), 3: array([ 0.11329142, -1.50616947])} \n",
      "\n",
      "Iterasi Centroid Ke-6:\n",
      "{0: array([-1.92219213,  0.22563655]), 1: array([0.46371157, 1.66370841]), 2: array([ 2.12240833, -0.20377145]), 3: array([ 0.07362694, -1.53133042])} \n",
      "\n",
      "Iterasi Centroid Ke-7:\n",
      "{0: array([-1.92195102,  0.22617401]), 1: array([0.46711862, 1.66094327]), 2: array([ 2.10305758, -0.21989454]), 3: array([ 0.04330311, -1.55072499])} \n",
      "\n",
      "Iterasi Centroid Ke-8:\n",
      "{0: array([-1.9218801 ,  0.22633627]), 1: array([0.46942465, 1.65928645]), 2: array([ 2.08932431, -0.23133368]), 3: array([ 0.02170273, -1.5644551 ])} \n",
      "\n",
      "Iterasi Centroid Ke-9:\n",
      "{0: array([-1.92175526,  0.22647723]), 1: array([0.47283757, 1.65907322]), 2: array([ 2.07922919, -0.24003102]), 3: array([ 0.00676156, -1.57402459])} \n",
      "\n",
      "Iterasi Centroid Ke-10:\n",
      "{0: array([-1.921468  ,  0.22664562]), 1: array([0.476924  , 1.65994789]), 2: array([ 2.07158593, -0.24706404]), 3: array([-0.00405358, -1.58057174])} \n",
      "\n",
      "Iterasi Centroid Ke-11:\n",
      "{0: array([-1.92116518,  0.22687928]), 1: array([0.48264324, 1.66146642]), 2: array([ 2.06523324, -0.25354646]), 3: array([-0.01186341, -1.58546044])} \n",
      "\n",
      "Iterasi Centroid Ke-12:\n",
      "{0: array([-1.92053938,  0.22727937]), 1: array([0.48511215, 1.66235617]), 2: array([ 2.06117928, -0.25704407]), 3: array([-0.01805574, -1.58900673])} \n",
      "\n",
      "Iterasi Centroid Ke-13:\n",
      "{0: array([-1.92029112,  0.22744943]), 1: array([0.48551923, 1.66236922]), 2: array([ 2.0584384 , -0.25908716]), 3: array([-0.02274612, -1.59180314])} \n",
      "\n",
      "Iterasi Centroid Ke-14:\n",
      "{0: array([-1.92020417,  0.22748189]), 1: array([0.485611  , 1.66222199]), 2: array([ 2.05646511, -0.26053128]), 3: array([-0.02603579, -1.59388494])} \n",
      "\n",
      "Iterasi Centroid Ke-15:\n",
      "{0: array([-1.92017486,  0.22748888]), 1: array([0.48556169, 1.66198392]), 2: array([ 2.05512758, -0.26155114]), 3: array([-0.02836659, -1.59538687])} \n",
      "\n",
      "Iterasi Centroid Ke-16:\n",
      "{0: array([-1.92015782,  0.22748307]), 1: array([0.48554041, 1.6618643 ]), 2: array([ 2.05407502, -0.26229024]), 3: array([-0.03009095, -1.5965333 ])} \n",
      "\n",
      "Iterasi Centroid Ke-17:\n",
      "{0: array([-1.92015782,  0.22748307]), 1: array([0.48550396, 1.661665  ]), 2: array([ 2.05317277, -0.26291813]), 3: array([-0.0315862 , -1.59758703])} \n",
      "\n",
      "Iterasi Centroid Ke-18:\n",
      "{0: array([-1.92015782,  0.22748307]), 1: array([0.48549012, 1.66158513]), 2: array([ 2.05264814, -0.26330694]), 3: array([-0.03248631, -1.59815039])} \n",
      "\n",
      "Iterasi Centroid Ke-19:\n",
      "{0: array([-1.92012623,  0.22746888]), 1: array([0.48549012, 1.66158513]), 2: array([ 2.05234891, -0.26353001]), 3: array([-0.03296688, -1.59848601])} \n",
      "\n",
      "Iterasi Centroid Ke-20:\n",
      "{0: array([-1.92012623,  0.22746888]), 1: array([0.48547677, 1.66150516]), 2: array([ 2.05210838, -0.26367219]), 3: array([-0.03333544, -1.59880914])} \n",
      "\n",
      "Iterasi Centroid Ke-21:\n",
      "{0: array([-1.92012331,  0.22745177]), 1: array([0.48543156, 1.66141153]), 2: array([ 2.05197719, -0.26377801]), 3: array([-0.03356898, -1.5990327 ])} \n",
      "\n",
      "Iterasi Centroid Ke-22:\n",
      "{0: array([-1.92010512,  0.22744715]), 1: array([0.48540885, 1.66133305]), 2: array([ 2.05190005, -0.26383016]), 3: array([-0.03368562, -1.59921936])} \n",
      "\n",
      "Iterasi Centroid Ke-23:\n",
      "{0: array([-1.92010512,  0.22744715]), 1: array([0.48540885, 1.66133305]), 2: array([ 2.0518031 , -0.26388587]), 3: array([-0.03382736, -1.59932001])} \n",
      "\n",
      "Iterasi Centroid Ke-24:\n",
      "{0: array([-1.92010512,  0.22744715]), 1: array([0.48540885, 1.66133305]), 2: array([ 2.05168881, -0.26398353]), 3: array([-0.03403967, -1.59941789])} \n",
      "\n",
      "Iterasi Centroid Ke-25:\n",
      "{0: array([-1.92010512,  0.22744715]), 1: array([0.48540885, 1.66133305]), 2: array([ 2.05156871, -0.26407209]), 3: array([-0.03424297, -1.59952992])} \n",
      "\n",
      "Iterasi Centroid Ke-26:\n",
      "{0: array([-1.92008805,  0.22744136]), 1: array([0.48540885, 1.66133305]), 2: array([ 2.05140618, -0.26419789]), 3: array([-0.03451471, -1.59970952])} \n",
      "\n",
      "Iterasi Centroid Ke-27:\n",
      "{0: array([-1.92008805,  0.22744136]), 1: array([0.48540885, 1.66133305]), 2: array([ 2.05131968, -0.26426986]), 3: array([-0.03467281, -1.59978494])} \n",
      "\n",
      "Iterasi Centroid Ke-28:\n",
      "{0: array([-1.92008805,  0.22744136]), 1: array([0.48540885, 1.66133305]), 2: array([ 2.05127662, -0.26430613]), 3: array([-0.03475216, -1.59982219])} \n",
      "\n",
      "Iterasi Centroid Ke-29:\n",
      "{0: array([-1.92008805,  0.22744136]), 1: array([0.48540885, 1.66133305]), 2: array([ 2.05124732, -0.2643294 ]), 3: array([-0.03480415, -1.59984845])} \n",
      "\n",
      "Iterasi Centroid Ke-30:\n",
      "{0: array([-1.92008805,  0.22744136]), 1: array([0.48540885, 1.66133305]), 2: array([ 2.0511824 , -0.26436605]), 3: array([-0.03489829, -1.59991636])} \n",
      "\n"
     ]
    }
   ],
   "source": [
    "# Merubah DataFrame Menjadi Numpy Array\n",
    "data = df.to_numpy()\n",
    "\n",
    "# Memasukkan Nilai K dan Maksimum Iterasi\n",
    "k = 4\n",
    "max_iter = 30\n",
    "\n",
    "# Memanggil Fungsi kmeans Yang Akan Mengembalikan Nilai Centroid Dan Cluster\n",
    "centroid, cluster = kmeans(k, max_iter, data)"
   ]
  },
  {
   "cell_type": "markdown",
   "metadata": {},
   "source": [
    "## **Hasil Proses Cluster Final**"
   ]
  },
  {
   "cell_type": "code",
   "execution_count": 20,
   "metadata": {},
   "outputs": [
    {
     "data": {
      "text/html": [
       "<div>\n",
       "<style scoped>\n",
       "    .dataframe tbody tr th:only-of-type {\n",
       "        vertical-align: middle;\n",
       "    }\n",
       "\n",
       "    .dataframe tbody tr th {\n",
       "        vertical-align: top;\n",
       "    }\n",
       "\n",
       "    .dataframe thead th {\n",
       "        text-align: right;\n",
       "    }\n",
       "</style>\n",
       "<table border=\"1\" class=\"dataframe\">\n",
       "  <thead>\n",
       "    <tr style=\"text-align: right;\">\n",
       "      <th></th>\n",
       "      <th>Component_1</th>\n",
       "      <th>Component_2</th>\n",
       "      <th>Cluster</th>\n",
       "    </tr>\n",
       "  </thead>\n",
       "  <tbody>\n",
       "    <tr>\n",
       "      <th>187229</th>\n",
       "      <td>2.965340</td>\n",
       "      <td>0.083638</td>\n",
       "      <td>2</td>\n",
       "    </tr>\n",
       "    <tr>\n",
       "      <th>73307</th>\n",
       "      <td>-1.843818</td>\n",
       "      <td>0.560933</td>\n",
       "      <td>0</td>\n",
       "    </tr>\n",
       "    <tr>\n",
       "      <th>132223</th>\n",
       "      <td>2.437056</td>\n",
       "      <td>0.009776</td>\n",
       "      <td>2</td>\n",
       "    </tr>\n",
       "    <tr>\n",
       "      <th>100179</th>\n",
       "      <td>0.614772</td>\n",
       "      <td>2.212766</td>\n",
       "      <td>1</td>\n",
       "    </tr>\n",
       "    <tr>\n",
       "      <th>41404</th>\n",
       "      <td>-2.127729</td>\n",
       "      <td>0.313207</td>\n",
       "      <td>0</td>\n",
       "    </tr>\n",
       "    <tr>\n",
       "      <th>101521</th>\n",
       "      <td>2.518837</td>\n",
       "      <td>1.845105</td>\n",
       "      <td>1</td>\n",
       "    </tr>\n",
       "    <tr>\n",
       "      <th>35686</th>\n",
       "      <td>-2.375069</td>\n",
       "      <td>0.101964</td>\n",
       "      <td>0</td>\n",
       "    </tr>\n",
       "    <tr>\n",
       "      <th>46990</th>\n",
       "      <td>-1.581793</td>\n",
       "      <td>0.795958</td>\n",
       "      <td>0</td>\n",
       "    </tr>\n",
       "    <tr>\n",
       "      <th>29210</th>\n",
       "      <td>-2.302991</td>\n",
       "      <td>0.174347</td>\n",
       "      <td>0</td>\n",
       "    </tr>\n",
       "    <tr>\n",
       "      <th>220942</th>\n",
       "      <td>-0.193503</td>\n",
       "      <td>-1.776695</td>\n",
       "      <td>3</td>\n",
       "    </tr>\n",
       "  </tbody>\n",
       "</table>\n",
       "</div>"
      ],
      "text/plain": [
       "        Component_1  Component_2  Cluster\n",
       "187229     2.965340     0.083638        2\n",
       "73307     -1.843818     0.560933        0\n",
       "132223     2.437056     0.009776        2\n",
       "100179     0.614772     2.212766        1\n",
       "41404     -2.127729     0.313207        0\n",
       "101521     2.518837     1.845105        1\n",
       "35686     -2.375069     0.101964        0\n",
       "46990     -1.581793     0.795958        0\n",
       "29210     -2.302991     0.174347        0\n",
       "220942    -0.193503    -1.776695        3"
      ]
     },
     "execution_count": 20,
     "metadata": {},
     "output_type": "execute_result"
    }
   ],
   "source": [
    "# Inisialisasi Array Untuk Dat Cluster\n",
    "df = []\n",
    "\n",
    "# Melakukan Perulangan Untuk Setiap Key Pada Data\n",
    "# Hasil Proses K-Means Untuk Diinputkan Kedalam Array Cluster (df)\n",
    "for key in cluster.keys():\n",
    "    for c in cluster.get(key):\n",
    "        df.append((c[0], c[1], key))\n",
    "\n",
    "# Set Array df menjadi dataframe, Menamakan nama kolom dan menampilkannya\n",
    "df = pd.DataFrame(df)\n",
    "df.columns = ['Component_1', 'Component_2', 'Cluster']\n",
    "df.sample(10)"
   ]
  },
  {
   "cell_type": "code",
   "execution_count": 21,
   "metadata": {},
   "outputs": [
    {
     "name": "stdout",
     "output_type": "stream",
     "text": [
      "Centroid 1 : [-1.92008805  0.22744136]\n",
      "Centroid 2 : [0.48540885 1.66133305]\n",
      "Centroid 3 : [ 2.0511824  -0.26436605]\n",
      "Centroid 4 : [-0.03489829 -1.59991636]\n"
     ]
    }
   ],
   "source": [
    "# Menampilkan Letak Seluruh Centroids\n",
    "for i in range(k):\n",
    "    print(f'Centroid {i+1} :', centroid[i])"
   ]
  },
  {
   "cell_type": "code",
   "execution_count": 22,
   "metadata": {},
   "outputs": [
    {
     "data": {
      "text/html": [
       "<div>\n",
       "<style scoped>\n",
       "    .dataframe tbody tr th:only-of-type {\n",
       "        vertical-align: middle;\n",
       "    }\n",
       "\n",
       "    .dataframe tbody tr th {\n",
       "        vertical-align: top;\n",
       "    }\n",
       "\n",
       "    .dataframe thead th {\n",
       "        text-align: right;\n",
       "    }\n",
       "</style>\n",
       "<table border=\"1\" class=\"dataframe\">\n",
       "  <thead>\n",
       "    <tr style=\"text-align: right;\">\n",
       "      <th></th>\n",
       "      <th>Cluster 1</th>\n",
       "      <th>Cluster 2</th>\n",
       "      <th>Cluster 3</th>\n",
       "      <th>Cluster 4</th>\n",
       "    </tr>\n",
       "  </thead>\n",
       "  <tbody>\n",
       "    <tr>\n",
       "      <th>22631</th>\n",
       "      <td>[-1.0119979465353068, -0.6217812008157085]</td>\n",
       "      <td>[1.157126019483086, 2.604291320437016]</td>\n",
       "      <td>[1.352226911171176, -0.8604684713209961]</td>\n",
       "      <td>[-0.6930314864087954, -2.201622573671048]</td>\n",
       "    </tr>\n",
       "    <tr>\n",
       "      <th>35821</th>\n",
       "      <td>[-2.265976007490881, 0.229325993813282]</td>\n",
       "      <td>[3.2221307740279896, 2.3430374493680763]</td>\n",
       "      <td>[1.411906018698302, -0.8277104685658521]</td>\n",
       "      <td>[0.854993167337871, -1.2866611319315038]</td>\n",
       "    </tr>\n",
       "    <tr>\n",
       "      <th>63595</th>\n",
       "      <td>[-1.8448684205262185, 0.5649709762238414]</td>\n",
       "      <td>NaN</td>\n",
       "      <td>[2.0946226355957545, -0.2939470209963521]</td>\n",
       "      <td>NaN</td>\n",
       "    </tr>\n",
       "    <tr>\n",
       "      <th>84</th>\n",
       "      <td>[-2.434829588291669, 0.082100658041981]</td>\n",
       "      <td>[0.8548873278602811, 2.378463141640702]</td>\n",
       "      <td>[0.8566511576723707, -0.4198652310907526]</td>\n",
       "      <td>[-0.2081097920060401, -1.785237369434747]</td>\n",
       "    </tr>\n",
       "    <tr>\n",
       "      <th>40645</th>\n",
       "      <td>[-2.080542562377395, 0.3618511787868074]</td>\n",
       "      <td>[1.240347829458931, 2.682394987762569]</td>\n",
       "      <td>[1.4746207669271518, -0.7712893191105696]</td>\n",
       "      <td>[0.6990613532772092, -1.3969309115960769]</td>\n",
       "    </tr>\n",
       "    <tr>\n",
       "      <th>44991</th>\n",
       "      <td>[-2.133130013596428, 0.3333308292301792]</td>\n",
       "      <td>NaN</td>\n",
       "      <td>[1.3995873139114847, -0.7384677891798248]</td>\n",
       "      <td>NaN</td>\n",
       "    </tr>\n",
       "    <tr>\n",
       "      <th>29769</th>\n",
       "      <td>[-1.9560184901345576, 0.4777201861145493]</td>\n",
       "      <td>[0.0028946493358995, 1.6778216697725263]</td>\n",
       "      <td>[0.9856556443520602, -0.2939514820412982]</td>\n",
       "      <td>[-0.4143509334446117, -1.93299189090872]</td>\n",
       "    </tr>\n",
       "    <tr>\n",
       "      <th>70985</th>\n",
       "      <td>[-2.2369781804132223, 0.2335326185577231]</td>\n",
       "      <td>NaN</td>\n",
       "      <td>NaN</td>\n",
       "      <td>NaN</td>\n",
       "    </tr>\n",
       "  </tbody>\n",
       "</table>\n",
       "</div>"
      ],
      "text/plain": [
       "                                        Cluster 1  \\\n",
       "22631  [-1.0119979465353068, -0.6217812008157085]   \n",
       "35821     [-2.265976007490881, 0.229325993813282]   \n",
       "63595   [-1.8448684205262185, 0.5649709762238414]   \n",
       "84        [-2.434829588291669, 0.082100658041981]   \n",
       "40645    [-2.080542562377395, 0.3618511787868074]   \n",
       "44991    [-2.133130013596428, 0.3333308292301792]   \n",
       "29769   [-1.9560184901345576, 0.4777201861145493]   \n",
       "70985   [-2.2369781804132223, 0.2335326185577231]   \n",
       "\n",
       "                                      Cluster 2  \\\n",
       "22631    [1.157126019483086, 2.604291320437016]   \n",
       "35821  [3.2221307740279896, 2.3430374493680763]   \n",
       "63595                                       NaN   \n",
       "84      [0.8548873278602811, 2.378463141640702]   \n",
       "40645    [1.240347829458931, 2.682394987762569]   \n",
       "44991                                       NaN   \n",
       "29769  [0.0028946493358995, 1.6778216697725263]   \n",
       "70985                                       NaN   \n",
       "\n",
       "                                       Cluster 3  \\\n",
       "22631   [1.352226911171176, -0.8604684713209961]   \n",
       "35821   [1.411906018698302, -0.8277104685658521]   \n",
       "63595  [2.0946226355957545, -0.2939470209963521]   \n",
       "84     [0.8566511576723707, -0.4198652310907526]   \n",
       "40645  [1.4746207669271518, -0.7712893191105696]   \n",
       "44991  [1.3995873139114847, -0.7384677891798248]   \n",
       "29769  [0.9856556443520602, -0.2939514820412982]   \n",
       "70985                                        NaN   \n",
       "\n",
       "                                       Cluster 4  \n",
       "22631  [-0.6930314864087954, -2.201622573671048]  \n",
       "35821   [0.854993167337871, -1.2866611319315038]  \n",
       "63595                                        NaN  \n",
       "84     [-0.2081097920060401, -1.785237369434747]  \n",
       "40645  [0.6990613532772092, -1.3969309115960769]  \n",
       "44991                                        NaN  \n",
       "29769   [-0.4143509334446117, -1.93299189090872]  \n",
       "70985                                        NaN  "
      ]
     },
     "execution_count": 22,
     "metadata": {},
     "output_type": "execute_result"
    }
   ],
   "source": [
    "# Memetakkan Nilai X Dan Y Untuk Setiap Data Pada Dictionary Cluster\n",
    "clusterize = pd.DataFrame(dict([(k, pd.Series(v)) for k, v in cluster.items()]))\n",
    "\n",
    "# Membuat Nama Kolom Cluster Berdasarkan Jumlah Cluster Pada Clusterize\n",
    "col = []\n",
    "for i in range(len(clusterize.columns)):\n",
    "    col.append('Cluster ' + str(i + 1))\n",
    "\n",
    "# Melakukan Set Nama Kolom Dan Menampilkan Sample Data Cluster\n",
    "clusterize.columns = col\n",
    "clusterize.sample(8)\n"
   ]
  },
  {
   "cell_type": "markdown",
   "metadata": {},
   "source": [
    "## **Visualisasi Cluster**"
   ]
  },
  {
   "cell_type": "code",
   "execution_count": 23,
   "metadata": {},
   "outputs": [
    {
     "data": {
      "image/png": "[encoded data removed]",
      "text/plain": [
       "<Figure size 576x576 with 1 Axes>"
      ]
     },
     "metadata": {
      "needs_background": "light"
     },
     "output_type": "display_data"
    }
   ],
   "source": [
    "# Set Warna Setiap CLuster\n",
    "colors = ['r', 'g', '#0080ff', '#e69500', '#e89500']\n",
    "\n",
    "# Set Ukuran Dan Judul Plot\n",
    "plt.figure(figsize=(8, 8))\n",
    "plt.title('Data Clustering Result')\n",
    "\n",
    "# Melakukan Looping Setiap Titik Data Dan Centroid\n",
    "for i in range(k):\n",
    "    plt.scatter(\n",
    "        df['Component_1'][df['Cluster'] == i], \n",
    "        df['Component_2'][df['Cluster'] == i],\n",
    "        color=colors[i],\n",
    "        label=f'Cluster {i}'\n",
    "    )\n",
    "\n",
    "    plt.scatter(centroid[i][0], centroid[i][1], color='k', marker='P')\n",
    "\n",
    "# Acuan Penampilan Label Centroid\n",
    "plt.scatter(centroid[0][0], centroid[0][1], color='k', label=\"Centroids\", marker='P')\n",
    "\n",
    "# Set Nama Label X Dan Y Pada Plot Dan Set Tempat Legend Ditampilkan\n",
    "plt.xlabel(\"Component 1\")\n",
    "plt.ylabel(\"Component 2\")\n",
    "plt.legend(loc='best', bbox_to_anchor=(1, 0.5))\n",
    "plt.show()\n"
   ]
  },
  {
   "cell_type": "markdown",
   "metadata": {},
   "source": [
    "## **Evaluasi Model**"
   ]
  },
  {
   "cell_type": "code",
   "execution_count": 24,
   "metadata": {},
   "outputs": [
    {
     "data": {
      "image/png": "[encoded data removed]",
      "text/plain": [
       "<Figure size 432x288 with 1 Axes>"
      ]
     },
     "metadata": {
      "needs_background": "light"
     },
     "output_type": "display_data"
    }
   ],
   "source": [
    "# Inisialisasi Array Untuk Distortion\n",
    "distortions = []\n",
    "\n",
    "# Inisialisasi Range K\n",
    "K = range(2, 9)\n",
    "\n",
    "# Melakukan Perulangan Untuk Setiap Range\n",
    "for i in K:\n",
    "    # Membangun Dan Fit Dataset\n",
    "    model = KMeans(n_clusters=i).fit(df)\n",
    "    model.fit(df)\n",
    "\n",
    "    # Memasukkan Hasil Dari Jumlah cdist data, cluster_center Ke Array\n",
    "    distortions.append(sum(np.min(cdist(df, model.cluster_centers_, 'euclidean'), axis=1)) / df.shape[0])\n",
    "\n",
    "# Plot data\n",
    "plt.plot(K, distortions, 'bx-')\n",
    "plt.xlabel('Nilai K')\n",
    "plt.ylabel('Distortion')\n",
    "plt.title('Evaluasi Jumlah Cluster Dengan Elbow Method')\n",
    "plt.show()"
   ]
  }
 ],
 "metadata": {
  "interpreter": {
   "hash": "2bf746931fd58f1246b6df4740a30aa94cbb7406c646ac7ef817c7ae9c273626"
  },
  "kernelspec": {
   "display_name": "Python 3.9.0 64-bit",
   "name": "python3"
  },
  "language_info": {
   "codemirror_mode": {
    "name": "ipython",
    "version": 3
   },
   "file_extension": ".py",
   "mimetype": "text/x-python",
   "name": "python",
   "nbconvert_exporter": "python",
   "pygments_lexer": "ipython3",
   "version": "3.9.0"
  },
  "orig_nbformat": 4
 },
 "nbformat": 4,
 "nbformat_minor": 2
}
