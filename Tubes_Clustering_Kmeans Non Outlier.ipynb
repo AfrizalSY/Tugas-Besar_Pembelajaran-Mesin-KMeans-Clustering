{
 "cells": [
  {
   "cell_type": "code",
   "execution_count": 25,
   "metadata": {},
   "outputs": [],
   "source": [
    "from scipy.spatial.distance import cdist\n",
    "from sklearn.cluster import KMeans\n",
    "\n",
    "import matplotlib.pyplot as plt\n",
    "import seaborn as sns\n",
    "import pandas as pd\n",
    "import numpy as np\n",
    "import random\n",
    "import math"
   ]
  },
  {
   "cell_type": "code",
   "execution_count": 27,
   "metadata": {},
   "outputs": [
    {
     "data": {
      "text/html": [
       "<div>\n",
       "<style scoped>\n",
       "    .dataframe tbody tr th:only-of-type {\n",
       "        vertical-align: middle;\n",
       "    }\n",
       "\n",
       "    .dataframe tbody tr th {\n",
       "        vertical-align: top;\n",
       "    }\n",
       "\n",
       "    .dataframe thead th {\n",
       "        text-align: right;\n",
       "    }\n",
       "</style>\n",
       "<table border=\"1\" class=\"dataframe\">\n",
       "  <thead>\n",
       "    <tr style=\"text-align: right;\">\n",
       "      <th></th>\n",
       "      <th>Jenis_Kelamin</th>\n",
       "      <th>Umur</th>\n",
       "      <th>SIM</th>\n",
       "      <th>Kode_Daerah</th>\n",
       "      <th>Sudah_Asuransi</th>\n",
       "      <th>Umur_Kendaraan</th>\n",
       "      <th>Kendaraan_Rusak</th>\n",
       "      <th>Premi</th>\n",
       "      <th>Kanal_Penjualan</th>\n",
       "      <th>Lama_Berlangganan</th>\n",
       "      <th>Tertarik</th>\n",
       "    </tr>\n",
       "  </thead>\n",
       "  <tbody>\n",
       "    <tr>\n",
       "      <th>135252</th>\n",
       "      <td>-1.099543</td>\n",
       "      <td>0.041243</td>\n",
       "      <td>0.044705</td>\n",
       "      <td>-1.453781</td>\n",
       "      <td>1.070422</td>\n",
       "      <td>0.755505</td>\n",
       "      <td>-1.000477</td>\n",
       "      <td>-0.034361</td>\n",
       "      <td>0.223363</td>\n",
       "      <td>0.511160</td>\n",
       "      <td>0</td>\n",
       "    </tr>\n",
       "    <tr>\n",
       "      <th>65690</th>\n",
       "      <td>-1.099543</td>\n",
       "      <td>-0.875367</td>\n",
       "      <td>0.044705</td>\n",
       "      <td>-1.453781</td>\n",
       "      <td>-0.982998</td>\n",
       "      <td>-1.049090</td>\n",
       "      <td>1.051748</td>\n",
       "      <td>1.333116</td>\n",
       "      <td>0.757866</td>\n",
       "      <td>0.058010</td>\n",
       "      <td>0</td>\n",
       "    </tr>\n",
       "    <tr>\n",
       "      <th>172597</th>\n",
       "      <td>0.957913</td>\n",
       "      <td>0.117558</td>\n",
       "      <td>0.044705</td>\n",
       "      <td>0.119618</td>\n",
       "      <td>-0.982998</td>\n",
       "      <td>0.755505</td>\n",
       "      <td>1.051748</td>\n",
       "      <td>0.611093</td>\n",
       "      <td>-1.647398</td>\n",
       "      <td>-0.199184</td>\n",
       "      <td>1</td>\n",
       "    </tr>\n",
       "    <tr>\n",
       "      <th>107834</th>\n",
       "      <td>-1.099543</td>\n",
       "      <td>0.183753</td>\n",
       "      <td>0.044705</td>\n",
       "      <td>0.119618</td>\n",
       "      <td>-0.982998</td>\n",
       "      <td>0.051533</td>\n",
       "      <td>1.051748</td>\n",
       "      <td>-0.456781</td>\n",
       "      <td>-1.647398</td>\n",
       "      <td>1.478698</td>\n",
       "      <td>0</td>\n",
       "    </tr>\n",
       "    <tr>\n",
       "      <th>125667</th>\n",
       "      <td>0.957913</td>\n",
       "      <td>-1.140147</td>\n",
       "      <td>0.044705</td>\n",
       "      <td>1.614346</td>\n",
       "      <td>-0.982998</td>\n",
       "      <td>-1.049090</td>\n",
       "      <td>-1.000477</td>\n",
       "      <td>-0.717398</td>\n",
       "      <td>0.910581</td>\n",
       "      <td>0.817343</td>\n",
       "      <td>0</td>\n",
       "    </tr>\n",
       "  </tbody>\n",
       "</table>\n",
       "</div>"
      ],
      "text/plain": [
       "        Jenis_Kelamin      Umur       SIM  Kode_Daerah  Sudah_Asuransi  \\\n",
       "135252      -1.099543  0.041243  0.044705    -1.453781        1.070422   \n",
       "65690       -1.099543 -0.875367  0.044705    -1.453781       -0.982998   \n",
       "172597       0.957913  0.117558  0.044705     0.119618       -0.982998   \n",
       "107834      -1.099543  0.183753  0.044705     0.119618       -0.982998   \n",
       "125667       0.957913 -1.140147  0.044705     1.614346       -0.982998   \n",
       "\n",
       "        Umur_Kendaraan  Kendaraan_Rusak     Premi  Kanal_Penjualan  \\\n",
       "135252        0.755505        -1.000477 -0.034361         0.223363   \n",
       "65690        -1.049090         1.051748  1.333116         0.757866   \n",
       "172597        0.755505         1.051748  0.611093        -1.647398   \n",
       "107834        0.051533         1.051748 -0.456781        -1.647398   \n",
       "125667       -1.049090        -1.000477 -0.717398         0.910581   \n",
       "\n",
       "        Lama_Berlangganan  Tertarik  \n",
       "135252           0.511160         0  \n",
       "65690            0.058010         0  \n",
       "172597          -0.199184         1  \n",
       "107834           1.478698         0  \n",
       "125667           0.817343         0  "
      ]
     },
     "execution_count": 27,
     "metadata": {},
     "output_type": "execute_result"
    }
   ],
   "source": [
    "# Menampilkan Sampel Data Dan Melakukan Drop Column Tertarik\n",
    "df = pd.read_csv('../Dataset/kendaraan_train_clean.csv')\n",
    "df.sample(5)"
   ]
  },
  {
   "cell_type": "code",
   "execution_count": 15,
   "metadata": {},
   "outputs": [
    {
     "data": {
      "text/plain": [
       "Jenis_Kelamin        0\n",
       "Umur                 0\n",
       "SIM                  0\n",
       "Kode_Daerah          0\n",
       "Sudah_Asuransi       0\n",
       "Umur_Kendaraan       0\n",
       "Kendaraan_Rusak      0\n",
       "Premi                0\n",
       "Kanal_Penjualan      0\n",
       "Lama_Berlangganan    0\n",
       "Tertarik             0\n",
       "dtype: int64"
      ]
     },
     "execution_count": 15,
     "metadata": {},
     "output_type": "execute_result"
    }
   ],
   "source": [
    "# Mengecek Data Kosong\n",
    "df.isna().sum()"
   ]
  },
  {
   "cell_type": "markdown",
   "metadata": {},
   "source": [
    "## **Feature Selection**"
   ]
  },
  {
   "cell_type": "code",
   "execution_count": 28,
   "metadata": {},
   "outputs": [
    {
     "data": {
      "image/png": "[encoded data removed]",
      "text/plain": [
       "<Figure size 1080x576 with 2 Axes>"
      ]
     },
     "metadata": {
      "needs_background": "light"
     },
     "output_type": "display_data"
    }
   ],
   "source": [
    "# Melihat Nilai Korelasi Antar Variable Dengan Heatmap\n",
    "plt.figure(figsize=(15, 8))\n",
    "mask = np.triu(np.ones_like(df.corr(), dtype=np.bool))\n",
    "heatmap = sns.heatmap(df.corr(), mask=mask, annot=True, cmap='BrBG')\n",
    "heatmap.set_title('Triangle Correlation Heatmap', fontdict={'fontsize': 16}, pad=16)\n",
    "plt.show()\n"
   ]
  },
  {
   "cell_type": "code",
   "execution_count": 16,
   "metadata": {},
   "outputs": [
    {
     "data": {
      "text/html": [
       "<div>\n",
       "<style scoped>\n",
       "    .dataframe tbody tr th:only-of-type {\n",
       "        vertical-align: middle;\n",
       "    }\n",
       "\n",
       "    .dataframe tbody tr th {\n",
       "        vertical-align: top;\n",
       "    }\n",
       "\n",
       "    .dataframe thead th {\n",
       "        text-align: right;\n",
       "    }\n",
       "</style>\n",
       "<table border=\"1\" class=\"dataframe\">\n",
       "  <thead>\n",
       "    <tr style=\"text-align: right;\">\n",
       "      <th></th>\n",
       "      <th>Umur</th>\n",
       "      <th>Kanal_Penjualan</th>\n",
       "    </tr>\n",
       "  </thead>\n",
       "  <tbody>\n",
       "    <tr>\n",
       "      <th>0</th>\n",
       "      <td>-0.544392</td>\n",
       "      <td>0.757866</td>\n",
       "    </tr>\n",
       "    <tr>\n",
       "      <th>1</th>\n",
       "      <td>0.647118</td>\n",
       "      <td>-1.590130</td>\n",
       "    </tr>\n",
       "    <tr>\n",
       "      <th>2</th>\n",
       "      <td>-1.140147</td>\n",
       "      <td>0.910581</td>\n",
       "    </tr>\n",
       "    <tr>\n",
       "      <th>3</th>\n",
       "      <td>0.779508</td>\n",
       "      <td>-0.463855</td>\n",
       "    </tr>\n",
       "    <tr>\n",
       "      <th>4</th>\n",
       "      <td>-1.140147</td>\n",
       "      <td>0.757866</td>\n",
       "    </tr>\n",
       "  </tbody>\n",
       "</table>\n",
       "</div>"
      ],
      "text/plain": [
       "       Umur  Kanal_Penjualan\n",
       "0 -0.544392         0.757866\n",
       "1  0.647118        -1.590130\n",
       "2 -1.140147         0.910581\n",
       "3  0.779508        -0.463855\n",
       "4 -1.140147         0.757866"
      ]
     },
     "execution_count": 16,
     "metadata": {},
     "output_type": "execute_result"
    }
   ],
   "source": [
    "df = df[['Umur', 'Kanal_Penjualan']]\n",
    "df.head()"
   ]
  },
  {
   "cell_type": "code",
   "execution_count": 17,
   "metadata": {},
   "outputs": [
    {
     "name": "stdout",
     "output_type": "stream",
     "text": [
      "Total Data : 230631\n"
     ]
    }
   ],
   "source": [
    "# Mengecek Total Data Pada Dataframe\n",
    "print(\"Total Data :\", len(df))"
   ]
  },
  {
   "cell_type": "markdown",
   "metadata": {},
   "source": [
    "## **K-MEANS Algorithm**"
   ]
  },
  {
   "cell_type": "code",
   "execution_count": 18,
   "metadata": {},
   "outputs": [],
   "source": [
    "# Mendefinisikan Metode Euclidean Untuk Perhitungan Jarak Dari Centroid\n",
    "def euclidean(x, y):\n",
    "    return math.sqrt(sum((x - y)**2))\n",
    "\n",
    "\n",
    "def kmeans(k, max_iter, df):\n",
    "    # Inisialisasi Dictionary Centroid Kemudian Memilih Centroid Secara Random Pada Data \n",
    "    # Sesuai Banyaknya Cluster Yang Didefinisikan\n",
    "    centroid = {i: df[random.randint(0, len(df))] for i in range(k)}\n",
    "    print(f'Inisialisasi Centroid Random:\\n{centroid} \\n')\n",
    "\n",
    "    for i in range(max_iter):\n",
    "        # Mendefinisikan Dictionary Cluster Dan Mengisi Setiap Key \n",
    "        # Pada Cluster Berisi Array kosong, contoh : {0: [], 1: [], 2: []}\n",
    "        cluster = {i: [] for i in range(k)}\n",
    "\n",
    "        # Mencari Nilai Terdekat Pada Data Untuk Setiap Centroid Yang Telah Di Definisikan Sebelumnya\n",
    "        # Menggunakan Metode Euclidean Dan Mencari Nilai Minimum Pada Setiap Distance \n",
    "        # Untuk Dimasukkan Kedalam Dictionary Cluster\n",
    "        for x in df:\n",
    "            dist = [euclidean(x, centroid[c]) for c in centroid]\n",
    "            cluster[dist.index(min(dist))].append(x)\n",
    "\n",
    "        # Mencari Nilai Centroid Ulang Dari Setiap Cluster \n",
    "        # Yang Telah Dicari Sebelumnya Menggunakan Mean \n",
    "        for cl in cluster:\n",
    "            centroid[cl] = np.mean(cluster[cl], axis=0)\n",
    "\n",
    "        print(f'Iterasi Centroid Ke-{i+1}:\\n{centroid} \\n')\n",
    "\n",
    "    # Mengembalikan Nilai Dari Variabel Centroid Dan Cluster\n",
    "    return centroid, cluster\n"
   ]
  },
  {
   "cell_type": "markdown",
   "metadata": {},
   "source": [
    "## **Main Program**"
   ]
  },
  {
   "cell_type": "code",
   "execution_count": 19,
   "metadata": {},
   "outputs": [
    {
     "name": "stdout",
     "output_type": "stream",
     "text": [
      "Inisialisasi Centroid Random:\n",
      "{0: array([-0.74297669,  0.75786612]), 1: array([0.38233837, 0.22336305]), 2: array([0.9780934 , 0.22336305])} \n",
      "\n",
      "Iterasi Centroid Ke-1:\n",
      "{0: array([-0.86817467,  0.71343937]), 1: array([ 0.16314188, -0.48649765]), 2: array([ 1.44910741, -0.75461015])} \n",
      "\n",
      "Iterasi Centroid Ke-2:\n",
      "{0: array([-0.7887278 ,  0.71716384]), 1: array([ 0.24369518, -0.53398582]), 2: array([ 1.5129125 , -0.96695163])} \n",
      "\n",
      "Iterasi Centroid Ke-3:\n",
      "{0: array([-0.76865536,  0.70758118]), 1: array([ 0.30014563, -0.49397562]), 2: array([ 1.50906602, -1.09694566])} \n",
      "\n",
      "Iterasi Centroid Ke-4:\n",
      "{0: array([-0.77112798,  0.70686689]), 1: array([ 0.34233763, -0.40895084]), 2: array([ 1.4685005 , -1.21536682])} \n",
      "\n",
      "Iterasi Centroid Ke-5:\n",
      "{0: array([-0.77741749,  0.70687393]), 1: array([ 0.39984955, -0.24098846]), 2: array([ 1.32983338, -1.36165229])} \n",
      "\n",
      "Iterasi Centroid Ke-6:\n",
      "{0: array([-0.79435507,  0.710654  ]), 1: array([0.54716398, 0.07606156]), 2: array([ 1.06067688, -1.53056175])} \n",
      "\n",
      "Iterasi Centroid Ke-7:\n",
      "{0: array([-0.80852135,  0.70845552]), 1: array([0.77130998, 0.26813102]), 2: array([ 0.81215942, -1.65288968])} \n",
      "\n",
      "Iterasi Centroid Ke-8:\n",
      "{0: array([-0.79785775,  0.70151641]), 1: array([0.80360979, 0.27004718]), 2: array([ 0.80937552, -1.65243761])} \n",
      "\n",
      "Iterasi Centroid Ke-9:\n",
      "{0: array([-0.78926676,  0.69583444]), 1: array([0.82625055, 0.27114134]), 2: array([ 0.80934203, -1.65245469])} \n",
      "\n",
      "Iterasi Centroid Ke-10:\n",
      "{0: array([-0.78899618,  0.69581272]), 1: array([0.82682418, 0.27085835]), 2: array([ 0.80931019, -1.65248754])} \n",
      "\n",
      "Iterasi Centroid Ke-11:\n",
      "{0: array([-0.78899618,  0.69581272]), 1: array([0.82682418, 0.27085835]), 2: array([ 0.80931019, -1.65248754])} \n",
      "\n",
      "Iterasi Centroid Ke-12:\n",
      "{0: array([-0.78899618,  0.69581272]), 1: array([0.82682418, 0.27085835]), 2: array([ 0.80931019, -1.65248754])} \n",
      "\n",
      "Iterasi Centroid Ke-13:\n",
      "{0: array([-0.78899618,  0.69581272]), 1: array([0.82682418, 0.27085835]), 2: array([ 0.80931019, -1.65248754])} \n",
      "\n",
      "Iterasi Centroid Ke-14:\n",
      "{0: array([-0.78899618,  0.69581272]), 1: array([0.82682418, 0.27085835]), 2: array([ 0.80931019, -1.65248754])} \n",
      "\n",
      "Iterasi Centroid Ke-15:\n",
      "{0: array([-0.78899618,  0.69581272]), 1: array([0.82682418, 0.27085835]), 2: array([ 0.80931019, -1.65248754])} \n",
      "\n",
      "Iterasi Centroid Ke-16:\n",
      "{0: array([-0.78899618,  0.69581272]), 1: array([0.82682418, 0.27085835]), 2: array([ 0.80931019, -1.65248754])} \n",
      "\n",
      "Iterasi Centroid Ke-17:\n",
      "{0: array([-0.78899618,  0.69581272]), 1: array([0.82682418, 0.27085835]), 2: array([ 0.80931019, -1.65248754])} \n",
      "\n",
      "Iterasi Centroid Ke-18:\n",
      "{0: array([-0.78899618,  0.69581272]), 1: array([0.82682418, 0.27085835]), 2: array([ 0.80931019, -1.65248754])} \n",
      "\n",
      "Iterasi Centroid Ke-19:\n",
      "{0: array([-0.78899618,  0.69581272]), 1: array([0.82682418, 0.27085835]), 2: array([ 0.80931019, -1.65248754])} \n",
      "\n",
      "Iterasi Centroid Ke-20:\n",
      "{0: array([-0.78899618,  0.69581272]), 1: array([0.82682418, 0.27085835]), 2: array([ 0.80931019, -1.65248754])} \n",
      "\n"
     ]
    }
   ],
   "source": [
    "# Merubah DataFrame Menjadi Numpy Array\n",
    "data = df.to_numpy()\n",
    "\n",
    "# Memasukkan Nilai K dan Maksimum Iterasi\n",
    "k = 3\n",
    "max_iter = 20\n",
    "\n",
    "# Memanggil Fungsi kmeans Yang Akan Mengembalikan Nilai Centroid Dan Cluster\n",
    "centroid, cluster = kmeans(k, max_iter, data)"
   ]
  },
  {
   "cell_type": "markdown",
   "metadata": {},
   "source": [
    "## **Hasil Proses Cluster Final**"
   ]
  },
  {
   "cell_type": "code",
   "execution_count": 20,
   "metadata": {},
   "outputs": [
    {
     "data": {
      "text/html": [
       "<div>\n",
       "<style scoped>\n",
       "    .dataframe tbody tr th:only-of-type {\n",
       "        vertical-align: middle;\n",
       "    }\n",
       "\n",
       "    .dataframe tbody tr th {\n",
       "        vertical-align: top;\n",
       "    }\n",
       "\n",
       "    .dataframe thead th {\n",
       "        text-align: right;\n",
       "    }\n",
       "</style>\n",
       "<table border=\"1\" class=\"dataframe\">\n",
       "  <thead>\n",
       "    <tr style=\"text-align: right;\">\n",
       "      <th></th>\n",
       "      <th>Umur</th>\n",
       "      <th>Kanal_Penjualan</th>\n",
       "      <th>Cluster</th>\n",
       "    </tr>\n",
       "  </thead>\n",
       "  <tbody>\n",
       "    <tr>\n",
       "      <th>166563</th>\n",
       "      <td>0.845703</td>\n",
       "      <td>0.757866</td>\n",
       "      <td>1</td>\n",
       "    </tr>\n",
       "    <tr>\n",
       "      <th>30558</th>\n",
       "      <td>-1.073952</td>\n",
       "      <td>0.757866</td>\n",
       "      <td>0</td>\n",
       "    </tr>\n",
       "    <tr>\n",
       "      <th>92830</th>\n",
       "      <td>-0.875367</td>\n",
       "      <td>0.757866</td>\n",
       "      <td>0</td>\n",
       "    </tr>\n",
       "    <tr>\n",
       "      <th>118689</th>\n",
       "      <td>0.051363</td>\n",
       "      <td>0.223363</td>\n",
       "      <td>1</td>\n",
       "    </tr>\n",
       "    <tr>\n",
       "      <th>160773</th>\n",
       "      <td>0.249948</td>\n",
       "      <td>0.223363</td>\n",
       "      <td>1</td>\n",
       "    </tr>\n",
       "    <tr>\n",
       "      <th>51088</th>\n",
       "      <td>-0.610587</td>\n",
       "      <td>0.738777</td>\n",
       "      <td>0</td>\n",
       "    </tr>\n",
       "    <tr>\n",
       "      <th>111283</th>\n",
       "      <td>-0.544392</td>\n",
       "      <td>0.738777</td>\n",
       "      <td>0</td>\n",
       "    </tr>\n",
       "    <tr>\n",
       "      <th>175533</th>\n",
       "      <td>0.249948</td>\n",
       "      <td>-1.647398</td>\n",
       "      <td>2</td>\n",
       "    </tr>\n",
       "  </tbody>\n",
       "</table>\n",
       "</div>"
      ],
      "text/plain": [
       "            Umur  Kanal_Penjualan  Cluster\n",
       "166563  0.845703         0.757866        1\n",
       "30558  -1.073952         0.757866        0\n",
       "92830  -0.875367         0.757866        0\n",
       "118689  0.051363         0.223363        1\n",
       "160773  0.249948         0.223363        1\n",
       "51088  -0.610587         0.738777        0\n",
       "111283 -0.544392         0.738777        0\n",
       "175533  0.249948        -1.647398        2"
      ]
     },
     "execution_count": 20,
     "metadata": {},
     "output_type": "execute_result"
    }
   ],
   "source": [
    "# Inisialisasi Array Untuk Dat Cluster\n",
    "df = []\n",
    "\n",
    "# Melakukan Perulangan Untuk Setiap Key Pada Data\n",
    "# Hasil Proses K-Means Untuk Diinputkan Kedalam Array Cluster (df)\n",
    "for key in cluster.keys():\n",
    "    for c in cluster.get(key):\n",
    "        df.append((c[0], c[1], key))\n",
    "\n",
    "# Set Array df menjadi dataframe, Menamakan nama kolom dan menampilkannya\n",
    "df = pd.DataFrame(df)\n",
    "df.columns = ['Umur', 'Kanal_Penjualan', 'Cluster']\n",
    "df.sample(8)"
   ]
  },
  {
   "cell_type": "code",
   "execution_count": 21,
   "metadata": {},
   "outputs": [
    {
     "name": "stdout",
     "output_type": "stream",
     "text": [
      "Centroid 1 : [-0.78899618  0.69581272]\n",
      "Centroid 2 : [0.82682418 0.27085835]\n",
      "Centroid 3 : [ 0.80931019 -1.65248754]\n"
     ]
    }
   ],
   "source": [
    "# Menampilkan Letak Seluruh Centroids\n",
    "for i in range(k):\n",
    "    print(f'Centroid {i+1} :', centroid[i])"
   ]
  },
  {
   "cell_type": "code",
   "execution_count": 22,
   "metadata": {},
   "outputs": [
    {
     "data": {
      "text/html": [
       "<div>\n",
       "<style scoped>\n",
       "    .dataframe tbody tr th:only-of-type {\n",
       "        vertical-align: middle;\n",
       "    }\n",
       "\n",
       "    .dataframe tbody tr th {\n",
       "        vertical-align: top;\n",
       "    }\n",
       "\n",
       "    .dataframe thead th {\n",
       "        text-align: right;\n",
       "    }\n",
       "</style>\n",
       "<table border=\"1\" class=\"dataframe\">\n",
       "  <thead>\n",
       "    <tr style=\"text-align: right;\">\n",
       "      <th></th>\n",
       "      <th>Cluster 1</th>\n",
       "      <th>Cluster 2</th>\n",
       "      <th>Cluster 3</th>\n",
       "    </tr>\n",
       "  </thead>\n",
       "  <tbody>\n",
       "    <tr>\n",
       "      <th>748</th>\n",
       "      <td>[-0.3458066708530555, 0.7578661220783074]</td>\n",
       "      <td>[0.1175583527700217, 0.8533130994491877]</td>\n",
       "      <td>[1.5738484270139788, -1.6473977076678736]</td>\n",
       "    </tr>\n",
       "    <tr>\n",
       "      <th>89017</th>\n",
       "      <td>[-0.5443916809772315, 0.7387767266041314]</td>\n",
       "      <td>NaN</td>\n",
       "      <td>NaN</td>\n",
       "    </tr>\n",
       "    <tr>\n",
       "      <th>22939</th>\n",
       "      <td>[-0.8753666978508581, 0.7578661220783074]</td>\n",
       "      <td>[0.0513633493952964, 0.2233630488013783]</td>\n",
       "      <td>[2.3681884675106826, -1.6473977076678736]</td>\n",
       "    </tr>\n",
       "    <tr>\n",
       "      <th>114770</th>\n",
       "      <td>[-1.0077567046003086, 0.7578661220783074]</td>\n",
       "      <td>NaN</td>\n",
       "      <td>NaN</td>\n",
       "    </tr>\n",
       "    <tr>\n",
       "      <th>38265</th>\n",
       "      <td>[-0.8091716944761328, 0.7578661220783074]</td>\n",
       "      <td>[1.3752634168898028, 0.7578661220783074]</td>\n",
       "      <td>[0.8457033898920003, -1.6473977076678736]</td>\n",
       "    </tr>\n",
       "    <tr>\n",
       "      <th>49956</th>\n",
       "      <td>[-0.8753666978508581, 0.7578661220783074]</td>\n",
       "      <td>[0.183753356144747, 0.2233630488013783]</td>\n",
       "      <td>[2.7653584877590345, -1.1128946343909445]</td>\n",
       "    </tr>\n",
       "    <tr>\n",
       "      <th>7891</th>\n",
       "      <td>[0.041243277672602, 0.7578661220783074]</td>\n",
       "      <td>[0.7133133831425497, 0.2233630488013783]</td>\n",
       "      <td>[1.0442884000161765, -1.6473977076678736]</td>\n",
       "    </tr>\n",
       "    <tr>\n",
       "      <th>72985</th>\n",
       "      <td>[-1.1401467113497594, 0.7578661220783074]</td>\n",
       "      <td>NaN</td>\n",
       "      <td>NaN</td>\n",
       "    </tr>\n",
       "  </tbody>\n",
       "</table>\n",
       "</div>"
      ],
      "text/plain": [
       "                                        Cluster 1  \\\n",
       "748     [-0.3458066708530555, 0.7578661220783074]   \n",
       "89017   [-0.5443916809772315, 0.7387767266041314]   \n",
       "22939   [-0.8753666978508581, 0.7578661220783074]   \n",
       "114770  [-1.0077567046003086, 0.7578661220783074]   \n",
       "38265   [-0.8091716944761328, 0.7578661220783074]   \n",
       "49956   [-0.8753666978508581, 0.7578661220783074]   \n",
       "7891      [0.041243277672602, 0.7578661220783074]   \n",
       "72985   [-1.1401467113497594, 0.7578661220783074]   \n",
       "\n",
       "                                       Cluster 2  \\\n",
       "748     [0.1175583527700217, 0.8533130994491877]   \n",
       "89017                                        NaN   \n",
       "22939   [0.0513633493952964, 0.2233630488013783]   \n",
       "114770                                       NaN   \n",
       "38265   [1.3752634168898028, 0.7578661220783074]   \n",
       "49956    [0.183753356144747, 0.2233630488013783]   \n",
       "7891    [0.7133133831425497, 0.2233630488013783]   \n",
       "72985                                        NaN   \n",
       "\n",
       "                                        Cluster 3  \n",
       "748     [1.5738484270139788, -1.6473977076678736]  \n",
       "89017                                         NaN  \n",
       "22939   [2.3681884675106826, -1.6473977076678736]  \n",
       "114770                                        NaN  \n",
       "38265   [0.8457033898920003, -1.6473977076678736]  \n",
       "49956   [2.7653584877590345, -1.1128946343909445]  \n",
       "7891    [1.0442884000161765, -1.6473977076678736]  \n",
       "72985                                         NaN  "
      ]
     },
     "execution_count": 22,
     "metadata": {},
     "output_type": "execute_result"
    }
   ],
   "source": [
    "# Memetakkan Nilai X Dan Y Untuk Setiap Data Pada Dictionary Cluster\n",
    "clusterize = pd.DataFrame(dict([(k, pd.Series(v)) for k, v in cluster.items()]))\n",
    "\n",
    "# Membuat Nama Kolom Cluster Berdasarkan Jumlah Cluster Pada Clusterize\n",
    "col = []\n",
    "for i in range(len(clusterize.columns)):\n",
    "    col.append('Cluster ' + str(i + 1))\n",
    "\n",
    "# Melakukan Set Nama Kolom Dan Menampilkan Sample Data Cluster\n",
    "clusterize.columns = col\n",
    "clusterize.sample(8)\n"
   ]
  },
  {
   "cell_type": "markdown",
   "metadata": {},
   "source": [
    "## **Visualisasi Cluster**"
   ]
  },
  {
   "cell_type": "code",
   "execution_count": 23,
   "metadata": {},
   "outputs": [
    {
     "data": {
      "image/png": "[encoded data removed]",
      "text/plain": [
       "<Figure size 576x576 with 1 Axes>"
      ]
     },
     "metadata": {
      "needs_background": "light"
     },
     "output_type": "display_data"
    }
   ],
   "source": [
    "# Set Warna Setiap CLuster\n",
    "colors = ['r', 'g', '#0080ff', '#e69500', '#e89500']\n",
    "\n",
    "# Set Ukuran Dan Judul Plot\n",
    "plt.figure(figsize=(8, 8))\n",
    "plt.title('Data Clustering Result')\n",
    "\n",
    "# Melakukan Looping Setiap Titik Data Dan Centroid\n",
    "for i in range(k):\n",
    "    plt.scatter(\n",
    "        df['Umur'][df['Cluster'] == i], \n",
    "        df['Kanal_Penjualan'][df['Cluster'] == i],\n",
    "        color=colors[i],\n",
    "        label=f'Cluster {i}'\n",
    "    )\n",
    "\n",
    "    plt.scatter(centroid[i][0], centroid[i][1], color='k', marker='P')\n",
    "\n",
    "# Acuan Penampilan Label Centroid\n",
    "plt.scatter(centroid[0][0], centroid[0][1], color='k', label=\"Centroids\", marker='P')\n",
    "\n",
    "# Set Nama Label X Dan Y Pada Plot Dan Set Tempat Legend Ditampilkan\n",
    "plt.xlabel(\"Umur\")\n",
    "plt.ylabel(\"Kanal Penjualan\")\n",
    "plt.legend(loc='best', bbox_to_anchor=(1, 0.5))\n",
    "plt.show()\n"
   ]
  },
  {
   "cell_type": "markdown",
   "metadata": {},
   "source": [
    "## **Evaluasi Model**"
   ]
  },
  {
   "cell_type": "code",
   "execution_count": 24,
   "metadata": {},
   "outputs": [
    {
     "data": {
      "image/png": "[encoded data removed]",
      "text/plain": [
       "<Figure size 432x288 with 1 Axes>"
      ]
     },
     "metadata": {
      "needs_background": "light"
     },
     "output_type": "display_data"
    }
   ],
   "source": [
    "# Inisialisasi Array Untuk Distortion\n",
    "distortions = []\n",
    "\n",
    "# Inisialisasi Range K\n",
    "K = range(2, 9)\n",
    "\n",
    "# Melakukan Perulangan Untuk Setiap Range\n",
    "for i in K:\n",
    "    # Membangun Dan Fit Dataset\n",
    "    model = KMeans(n_clusters=i).fit(df)\n",
    "    model.fit(df)\n",
    "\n",
    "    # Memasukkan Hasil Dari Jumlah cdist data, cluster_center Ke Array\n",
    "    distortions.append(sum(np.min(cdist(df, model.cluster_centers_, 'euclidean'), axis=1)) / df.shape[0])\n",
    "\n",
    "# Plot data\n",
    "plt.plot(K, distortions, 'bx-')\n",
    "plt.xlabel('Nilai K')\n",
    "plt.ylabel('Distortion')\n",
    "plt.title('Evaluasi Jumlah Cluster Dengan Elbow Method')\n",
    "plt.show()"
   ]
  }
 ],
 "metadata": {
  "interpreter": {
   "hash": "2bf746931fd58f1246b6df4740a30aa94cbb7406c646ac7ef817c7ae9c273626"
  },
  "kernelspec": {
   "display_name": "Python 3.9.0 64-bit",
   "name": "python3"
  },
  "language_info": {
   "codemirror_mode": {
    "name": "ipython",
    "version": 3
   },
   "file_extension": ".py",
   "mimetype": "text/x-python",
   "name": "python",
   "nbconvert_exporter": "python",
   "pygments_lexer": "ipython3",
   "version": "3.9.0"
  },
  "orig_nbformat": 4
 },
 "nbformat": 4,
 "nbformat_minor": 2
}
